{
 "cells": [
  {
   "cell_type": "code",
   "execution_count": 1,
   "id": "0c6410b9-9bfe-4771-aa02-7e102a6236a2",
   "metadata": {},
   "outputs": [],
   "source": [
    "import pandas as pd\n",
    "import numpy as np\n",
    "from sklearn.model_selection import train_test_split\n",
    "from sklearn.preprocessing import StandardScaler\n",
    "from sklearn.linear_model import Perceptron\n",
    "from sklearn.metrics import accuracy_score, confusion_matrix, classification_report"
   ]
  },
  {
   "cell_type": "markdown",
   "id": "220a25da-e93f-4e6b-ba2f-f5c981799b97",
   "metadata": {},
   "source": [
    "# Data Loading and pre-processing"
   ]
  },
  {
   "cell_type": "code",
   "execution_count": 3,
   "id": "002098d2-f6a5-4f8c-8277-1c1f7170cf82",
   "metadata": {},
   "outputs": [],
   "source": [
    "# Load the diabetes dataset\n",
    "\n",
    "file_path = 'C:/Users/ruzar/Downloads/diabetes.csv'  \n",
    "diabetes_data = pd.read_csv(file_path)\n",
    "\n"
   ]
  },
  {
   "cell_type": "code",
   "execution_count": 6,
   "id": "0e1b5b19-cc47-40f9-bb09-bcb0c58fcdce",
   "metadata": {},
   "outputs": [
    {
     "data": {
      "text/html": [
       "<div>\n",
       "<style scoped>\n",
       "    .dataframe tbody tr th:only-of-type {\n",
       "        vertical-align: middle;\n",
       "    }\n",
       "\n",
       "    .dataframe tbody tr th {\n",
       "        vertical-align: top;\n",
       "    }\n",
       "\n",
       "    .dataframe thead th {\n",
       "        text-align: right;\n",
       "    }\n",
       "</style>\n",
       "<table border=\"1\" class=\"dataframe\">\n",
       "  <thead>\n",
       "    <tr style=\"text-align: right;\">\n",
       "      <th></th>\n",
       "      <th>Pregnancies</th>\n",
       "      <th>Glucose</th>\n",
       "      <th>BloodPressure</th>\n",
       "      <th>SkinThickness</th>\n",
       "      <th>Insulin</th>\n",
       "      <th>BMI</th>\n",
       "      <th>DiabetesPedigreeFunction</th>\n",
       "      <th>Age</th>\n",
       "      <th>Outcome</th>\n",
       "    </tr>\n",
       "  </thead>\n",
       "  <tbody>\n",
       "    <tr>\n",
       "      <th>0</th>\n",
       "      <td>6</td>\n",
       "      <td>148</td>\n",
       "      <td>72</td>\n",
       "      <td>35</td>\n",
       "      <td>0</td>\n",
       "      <td>33.6</td>\n",
       "      <td>0.627</td>\n",
       "      <td>50</td>\n",
       "      <td>1</td>\n",
       "    </tr>\n",
       "    <tr>\n",
       "      <th>1</th>\n",
       "      <td>1</td>\n",
       "      <td>85</td>\n",
       "      <td>66</td>\n",
       "      <td>29</td>\n",
       "      <td>0</td>\n",
       "      <td>26.6</td>\n",
       "      <td>0.351</td>\n",
       "      <td>31</td>\n",
       "      <td>0</td>\n",
       "    </tr>\n",
       "    <tr>\n",
       "      <th>2</th>\n",
       "      <td>8</td>\n",
       "      <td>183</td>\n",
       "      <td>64</td>\n",
       "      <td>0</td>\n",
       "      <td>0</td>\n",
       "      <td>23.3</td>\n",
       "      <td>0.672</td>\n",
       "      <td>32</td>\n",
       "      <td>1</td>\n",
       "    </tr>\n",
       "    <tr>\n",
       "      <th>3</th>\n",
       "      <td>1</td>\n",
       "      <td>89</td>\n",
       "      <td>66</td>\n",
       "      <td>23</td>\n",
       "      <td>94</td>\n",
       "      <td>28.1</td>\n",
       "      <td>0.167</td>\n",
       "      <td>21</td>\n",
       "      <td>0</td>\n",
       "    </tr>\n",
       "    <tr>\n",
       "      <th>4</th>\n",
       "      <td>0</td>\n",
       "      <td>137</td>\n",
       "      <td>40</td>\n",
       "      <td>35</td>\n",
       "      <td>168</td>\n",
       "      <td>43.1</td>\n",
       "      <td>2.288</td>\n",
       "      <td>33</td>\n",
       "      <td>1</td>\n",
       "    </tr>\n",
       "  </tbody>\n",
       "</table>\n",
       "</div>"
      ],
      "text/plain": [
       "   Pregnancies  Glucose  BloodPressure  SkinThickness  Insulin   BMI  \\\n",
       "0            6      148             72             35        0  33.6   \n",
       "1            1       85             66             29        0  26.6   \n",
       "2            8      183             64              0        0  23.3   \n",
       "3            1       89             66             23       94  28.1   \n",
       "4            0      137             40             35      168  43.1   \n",
       "\n",
       "   DiabetesPedigreeFunction  Age  Outcome  \n",
       "0                     0.627   50        1  \n",
       "1                     0.351   31        0  \n",
       "2                     0.672   32        1  \n",
       "3                     0.167   21        0  \n",
       "4                     2.288   33        1  "
      ]
     },
     "execution_count": 6,
     "metadata": {},
     "output_type": "execute_result"
    }
   ],
   "source": [
    "diabetes_data.head()"
   ]
  },
  {
   "cell_type": "code",
   "execution_count": 8,
   "id": "227b577e-e46b-4aae-8495-33b792270bc8",
   "metadata": {},
   "outputs": [
    {
     "name": "stdout",
     "output_type": "stream",
     "text": [
      "<class 'pandas.core.frame.DataFrame'>\n",
      "RangeIndex: 768 entries, 0 to 767\n",
      "Data columns (total 9 columns):\n",
      " #   Column                    Non-Null Count  Dtype  \n",
      "---  ------                    --------------  -----  \n",
      " 0   Pregnancies               768 non-null    int64  \n",
      " 1   Glucose                   768 non-null    int64  \n",
      " 2   BloodPressure             768 non-null    int64  \n",
      " 3   SkinThickness             768 non-null    int64  \n",
      " 4   Insulin                   768 non-null    int64  \n",
      " 5   BMI                       768 non-null    float64\n",
      " 6   DiabetesPedigreeFunction  768 non-null    float64\n",
      " 7   Age                       768 non-null    int64  \n",
      " 8   Outcome                   768 non-null    int64  \n",
      "dtypes: float64(2), int64(7)\n",
      "memory usage: 54.1 KB\n"
     ]
    }
   ],
   "source": [
    "diabetes_data.info()"
   ]
  },
  {
   "cell_type": "code",
   "execution_count": 10,
   "id": "9ed29904-f41d-41c9-84a2-1612cb9824e4",
   "metadata": {},
   "outputs": [
    {
     "data": {
      "text/html": [
       "<div>\n",
       "<style scoped>\n",
       "    .dataframe tbody tr th:only-of-type {\n",
       "        vertical-align: middle;\n",
       "    }\n",
       "\n",
       "    .dataframe tbody tr th {\n",
       "        vertical-align: top;\n",
       "    }\n",
       "\n",
       "    .dataframe thead th {\n",
       "        text-align: right;\n",
       "    }\n",
       "</style>\n",
       "<table border=\"1\" class=\"dataframe\">\n",
       "  <thead>\n",
       "    <tr style=\"text-align: right;\">\n",
       "      <th></th>\n",
       "      <th>Pregnancies</th>\n",
       "      <th>Glucose</th>\n",
       "      <th>BloodPressure</th>\n",
       "      <th>SkinThickness</th>\n",
       "      <th>Insulin</th>\n",
       "      <th>BMI</th>\n",
       "      <th>DiabetesPedigreeFunction</th>\n",
       "      <th>Age</th>\n",
       "      <th>Outcome</th>\n",
       "    </tr>\n",
       "  </thead>\n",
       "  <tbody>\n",
       "    <tr>\n",
       "      <th>count</th>\n",
       "      <td>768.000000</td>\n",
       "      <td>768.000000</td>\n",
       "      <td>768.000000</td>\n",
       "      <td>768.000000</td>\n",
       "      <td>768.000000</td>\n",
       "      <td>768.000000</td>\n",
       "      <td>768.000000</td>\n",
       "      <td>768.000000</td>\n",
       "      <td>768.000000</td>\n",
       "    </tr>\n",
       "    <tr>\n",
       "      <th>mean</th>\n",
       "      <td>3.845052</td>\n",
       "      <td>120.894531</td>\n",
       "      <td>69.105469</td>\n",
       "      <td>20.536458</td>\n",
       "      <td>79.799479</td>\n",
       "      <td>31.992578</td>\n",
       "      <td>0.471876</td>\n",
       "      <td>33.240885</td>\n",
       "      <td>0.348958</td>\n",
       "    </tr>\n",
       "    <tr>\n",
       "      <th>std</th>\n",
       "      <td>3.369578</td>\n",
       "      <td>31.972618</td>\n",
       "      <td>19.355807</td>\n",
       "      <td>15.952218</td>\n",
       "      <td>115.244002</td>\n",
       "      <td>7.884160</td>\n",
       "      <td>0.331329</td>\n",
       "      <td>11.760232</td>\n",
       "      <td>0.476951</td>\n",
       "    </tr>\n",
       "    <tr>\n",
       "      <th>min</th>\n",
       "      <td>0.000000</td>\n",
       "      <td>0.000000</td>\n",
       "      <td>0.000000</td>\n",
       "      <td>0.000000</td>\n",
       "      <td>0.000000</td>\n",
       "      <td>0.000000</td>\n",
       "      <td>0.078000</td>\n",
       "      <td>21.000000</td>\n",
       "      <td>0.000000</td>\n",
       "    </tr>\n",
       "    <tr>\n",
       "      <th>25%</th>\n",
       "      <td>1.000000</td>\n",
       "      <td>99.000000</td>\n",
       "      <td>62.000000</td>\n",
       "      <td>0.000000</td>\n",
       "      <td>0.000000</td>\n",
       "      <td>27.300000</td>\n",
       "      <td>0.243750</td>\n",
       "      <td>24.000000</td>\n",
       "      <td>0.000000</td>\n",
       "    </tr>\n",
       "    <tr>\n",
       "      <th>50%</th>\n",
       "      <td>3.000000</td>\n",
       "      <td>117.000000</td>\n",
       "      <td>72.000000</td>\n",
       "      <td>23.000000</td>\n",
       "      <td>30.500000</td>\n",
       "      <td>32.000000</td>\n",
       "      <td>0.372500</td>\n",
       "      <td>29.000000</td>\n",
       "      <td>0.000000</td>\n",
       "    </tr>\n",
       "    <tr>\n",
       "      <th>75%</th>\n",
       "      <td>6.000000</td>\n",
       "      <td>140.250000</td>\n",
       "      <td>80.000000</td>\n",
       "      <td>32.000000</td>\n",
       "      <td>127.250000</td>\n",
       "      <td>36.600000</td>\n",
       "      <td>0.626250</td>\n",
       "      <td>41.000000</td>\n",
       "      <td>1.000000</td>\n",
       "    </tr>\n",
       "    <tr>\n",
       "      <th>max</th>\n",
       "      <td>17.000000</td>\n",
       "      <td>199.000000</td>\n",
       "      <td>122.000000</td>\n",
       "      <td>99.000000</td>\n",
       "      <td>846.000000</td>\n",
       "      <td>67.100000</td>\n",
       "      <td>2.420000</td>\n",
       "      <td>81.000000</td>\n",
       "      <td>1.000000</td>\n",
       "    </tr>\n",
       "  </tbody>\n",
       "</table>\n",
       "</div>"
      ],
      "text/plain": [
       "       Pregnancies     Glucose  BloodPressure  SkinThickness     Insulin  \\\n",
       "count   768.000000  768.000000     768.000000     768.000000  768.000000   \n",
       "mean      3.845052  120.894531      69.105469      20.536458   79.799479   \n",
       "std       3.369578   31.972618      19.355807      15.952218  115.244002   \n",
       "min       0.000000    0.000000       0.000000       0.000000    0.000000   \n",
       "25%       1.000000   99.000000      62.000000       0.000000    0.000000   \n",
       "50%       3.000000  117.000000      72.000000      23.000000   30.500000   \n",
       "75%       6.000000  140.250000      80.000000      32.000000  127.250000   \n",
       "max      17.000000  199.000000     122.000000      99.000000  846.000000   \n",
       "\n",
       "              BMI  DiabetesPedigreeFunction         Age     Outcome  \n",
       "count  768.000000                768.000000  768.000000  768.000000  \n",
       "mean    31.992578                  0.471876   33.240885    0.348958  \n",
       "std      7.884160                  0.331329   11.760232    0.476951  \n",
       "min      0.000000                  0.078000   21.000000    0.000000  \n",
       "25%     27.300000                  0.243750   24.000000    0.000000  \n",
       "50%     32.000000                  0.372500   29.000000    0.000000  \n",
       "75%     36.600000                  0.626250   41.000000    1.000000  \n",
       "max     67.100000                  2.420000   81.000000    1.000000  "
      ]
     },
     "execution_count": 10,
     "metadata": {},
     "output_type": "execute_result"
    }
   ],
   "source": [
    "diabetes_data.describe()"
   ]
  },
  {
   "cell_type": "code",
   "execution_count": 12,
   "id": "564bec48-0618-4872-a77e-16e766c659e5",
   "metadata": {},
   "outputs": [
    {
     "name": "stdout",
     "output_type": "stream",
     "text": [
      "Pregnancies                 111\n",
      "Glucose                       5\n",
      "BloodPressure                35\n",
      "SkinThickness               227\n",
      "Insulin                     374\n",
      "BMI                          11\n",
      "DiabetesPedigreeFunction      0\n",
      "Age                           0\n",
      "Outcome                     500\n",
      "dtype: int64\n"
     ]
    }
   ],
   "source": [
    "# Count how many zero values are present in each column of the dataset\n",
    "missing_values_all_columns = (diabetes_data == 0).sum()\n",
    "\n",
    "# Display the count of zero values for each column\n",
    "print(missing_values_all_columns)"
   ]
  },
  {
   "cell_type": "code",
   "execution_count": 14,
   "id": "8f47aae7-b22d-4574-b1ab-4793732a81dc",
   "metadata": {},
   "outputs": [],
   "source": [
    "# Columns where zero represents missing data\n",
    "columns_with_zeros = ['Glucose', 'BloodPressure', 'SkinThickness', 'Insulin', 'BMI']\n",
    "\n",
    "# Replacing the missing values with median\n",
    "for column in columns_with_zeros:\n",
    "    median_value = diabetes_data[column].median()\n",
    "    diabetes_data[column] = diabetes_data[column].replace(0, median_value)\n",
    "\n"
   ]
  },
  {
   "cell_type": "code",
   "execution_count": 16,
   "id": "9e643c5a-6871-4c28-a1aa-9596017275ef",
   "metadata": {},
   "outputs": [
    {
     "name": "stdout",
     "output_type": "stream",
     "text": [
      "Glucose          0\n",
      "BloodPressure    0\n",
      "SkinThickness    0\n",
      "Insulin          0\n",
      "BMI              0\n",
      "dtype: int64\n"
     ]
    }
   ],
   "source": [
    "# Re-checking the null values\n",
    "print((diabetes_data[columns_with_zeros] == 0).sum())  "
   ]
  },
  {
   "cell_type": "markdown",
   "id": "43f29af3-0dde-4eba-94ad-adb58cd35c81",
   "metadata": {},
   "source": [
    "# Data Splitting and Feature Scaling"
   ]
  },
  {
   "cell_type": "code",
   "execution_count": 19,
   "id": "8d3547ce-1f0f-44a1-8e9a-2f0aead166be",
   "metadata": {},
   "outputs": [],
   "source": [
    "\n",
    "X = diabetes_data.drop('Outcome', axis=1)\n",
    "y = diabetes_data['Outcome']\n",
    "\n",
    "# Split the data into training and testing sets (80% train, 20% test)\n",
    "X_train, X_test, y_train, y_test = train_test_split(X, y, test_size=0.2, random_state=42)\n",
    "\n",
    "# Feature scaling (standardization)\n",
    "scaler = StandardScaler()\n",
    "X_train_scaled = scaler.fit_transform(X_train)\n",
    "X_test_scaled = scaler.transform(X_test)"
   ]
  },
  {
   "cell_type": "code",
   "execution_count": 21,
   "id": "b83198aa-8cfa-4f88-884c-10272e9affc9",
   "metadata": {},
   "outputs": [
    {
     "name": "stdout",
     "output_type": "stream",
     "text": [
      "[[-0.52639686 -1.25688146 -0.01899526 -0.45487119 -0.61269674 -0.05024677\n",
      "  -0.49073479 -1.03594038]\n",
      " [ 1.58804586 -0.32605067  0.8081742  -0.34092141 -0.61269674 -0.59858988\n",
      "   2.41502991  1.48710085]\n",
      " [-0.82846011  0.57153617 -2.16963585 -0.91067031 -0.12042886 -0.52643947\n",
      "   0.54916055 -0.94893896]\n",
      " [-1.13052335  1.30290323 -1.83876807 -0.45487119 -0.61269674 -1.50768503\n",
      "  -0.63929127  2.79212217]\n",
      " [ 0.68185612  0.40531639  0.64274031  1.14042573  2.57063552  1.99882486\n",
      "  -0.68682934  1.13909516]]\n"
     ]
    }
   ],
   "source": [
    "# Checking scaled features\n",
    "print(X_train_scaled[:5])  "
   ]
  },
  {
   "cell_type": "markdown",
   "id": "c9e1c939-46f5-4b8f-a4b4-a65f8aaf665a",
   "metadata": {},
   "source": [
    "# Baseline perceptron model"
   ]
  },
  {
   "cell_type": "code",
   "execution_count": 24,
   "id": "945d284c-b19e-436a-b29e-a14cebfbf355",
   "metadata": {},
   "outputs": [],
   "source": [
    "# Build the Perceptron model\n",
    "perceptron_model = Perceptron(random_state=42)\n",
    "\n",
    "# Train the model using the training data\n",
    "perceptron_model.fit(X_train_scaled, y_train)\n",
    "\n",
    "# Make predictions on the test data\n",
    "y_pred = perceptron_model.predict(X_test_scaled)\n"
   ]
  },
  {
   "cell_type": "markdown",
   "id": "058ca99f-8db0-46ea-a048-3e1756df3f33",
   "metadata": {},
   "source": [
    "## Model Evaluation"
   ]
  },
  {
   "cell_type": "code",
   "execution_count": 27,
   "id": "22f556ea-7d0f-41fc-9c8e-67ba827fd09b",
   "metadata": {},
   "outputs": [
    {
     "name": "stdout",
     "output_type": "stream",
     "text": [
      "Accuracy: 64.29%\n",
      "Confusion Matrix:\n",
      " [[82 17]\n",
      " [38 17]]\n",
      "Classification Report:\n",
      "               precision    recall  f1-score   support\n",
      "\n",
      "           0       0.68      0.83      0.75        99\n",
      "           1       0.50      0.31      0.38        55\n",
      "\n",
      "    accuracy                           0.64       154\n",
      "   macro avg       0.59      0.57      0.57       154\n",
      "weighted avg       0.62      0.64      0.62       154\n",
      "\n"
     ]
    }
   ],
   "source": [
    "# Evaluate the model\n",
    "accuracy = accuracy_score(y_test, y_pred)\n",
    "conf_matrix = confusion_matrix(y_test, y_pred)\n",
    "class_report = classification_report(y_test, y_pred)\n",
    "\n",
    "# Output the results\n",
    "print(f\"Accuracy: {accuracy * 100:.2f}%\")\n",
    "print(\"Confusion Matrix:\\n\", conf_matrix)\n",
    "print(\"Classification Report:\\n\", class_report)"
   ]
  },
  {
   "cell_type": "markdown",
   "id": "093851b0-83f3-4f04-9b06-1c4d5a0d1575",
   "metadata": {},
   "source": [
    "## Logistic Regression Model"
   ]
  },
  {
   "cell_type": "code",
   "execution_count": 30,
   "id": "d3881ad3-9e23-4104-af7e-50f81734378e",
   "metadata": {},
   "outputs": [],
   "source": [
    "from sklearn.linear_model import LogisticRegression\n",
    "from sklearn.metrics import accuracy_score, confusion_matrix, classification_report\n",
    "\n",
    "# Build the Logistic Regression model\n",
    "logistic_regression_model = LogisticRegression(random_state=42)\n",
    "\n",
    "# Train the model using the training data\n",
    "logistic_regression_model.fit(X_train_scaled, y_train)\n",
    "\n",
    "# Make predictions on the test data\n",
    "y_pred_lr = logistic_regression_model.predict(X_test_scaled)\n",
    "\n"
   ]
  },
  {
   "cell_type": "code",
   "execution_count": 32,
   "id": "d1973764-5ad1-4fbb-95c2-f958e3b20de7",
   "metadata": {},
   "outputs": [
    {
     "name": "stdout",
     "output_type": "stream",
     "text": [
      "Logistic Regression Accuracy: 76.62%\n",
      "Confusion Matrix:\n",
      " [[82 17]\n",
      " [19 36]]\n",
      "Classification Report:\n",
      "               precision    recall  f1-score   support\n",
      "\n",
      "           0       0.81      0.83      0.82        99\n",
      "           1       0.68      0.65      0.67        55\n",
      "\n",
      "    accuracy                           0.77       154\n",
      "   macro avg       0.75      0.74      0.74       154\n",
      "weighted avg       0.76      0.77      0.77       154\n",
      "\n"
     ]
    }
   ],
   "source": [
    "# Evaluate the model\n",
    "accuracy_lr = accuracy_score(y_test, y_pred_lr)\n",
    "conf_matrix_lr = confusion_matrix(y_test, y_pred_lr)\n",
    "class_report_lr = classification_report(y_test, y_pred_lr)\n",
    "\n",
    "# Output the results\n",
    "print(f\"Logistic Regression Accuracy: {accuracy_lr * 100:.2f}%\")\n",
    "print(\"Confusion Matrix:\\n\", conf_matrix_lr)\n",
    "print(\"Classification Report:\\n\", class_report_lr)"
   ]
  },
  {
   "cell_type": "markdown",
   "id": "791c64d2-207d-4c04-988f-72641c14f19f",
   "metadata": {},
   "source": [
    "## Support Vector Machine (SVM) Model"
   ]
  },
  {
   "cell_type": "code",
   "execution_count": 35,
   "id": "8a0e15f6-6cca-4ce0-9137-52da6255201a",
   "metadata": {},
   "outputs": [],
   "source": [
    "from sklearn.svm import SVC\n",
    "\n",
    "# Build the Support Vector Machine model\n",
    "svm_model = SVC(random_state=42)\n",
    "\n",
    "# Train the model using the training data\n",
    "svm_model.fit(X_train_scaled, y_train)\n",
    "\n",
    "# Make predictions on the test data\n",
    "y_pred_svm = svm_model.predict(X_test_scaled)\n",
    "\n"
   ]
  },
  {
   "cell_type": "code",
   "execution_count": 37,
   "id": "6cb09c1e-58cd-4a18-8b25-0ecc19fab80c",
   "metadata": {},
   "outputs": [
    {
     "name": "stdout",
     "output_type": "stream",
     "text": [
      "SVM Accuracy: 75.32%\n",
      "Confusion Matrix:\n",
      " [[84 15]\n",
      " [23 32]]\n",
      "Classification Report:\n",
      "               precision    recall  f1-score   support\n",
      "\n",
      "           0       0.79      0.85      0.82        99\n",
      "           1       0.68      0.58      0.63        55\n",
      "\n",
      "    accuracy                           0.75       154\n",
      "   macro avg       0.73      0.72      0.72       154\n",
      "weighted avg       0.75      0.75      0.75       154\n",
      "\n"
     ]
    }
   ],
   "source": [
    "# Evaluate the model\n",
    "accuracy_svm = accuracy_score(y_test, y_pred_svm)\n",
    "conf_matrix_svm = confusion_matrix(y_test, y_pred_svm)\n",
    "class_report_svm = classification_report(y_test, y_pred_svm)\n",
    "\n",
    "# Output the results\n",
    "print(f\"SVM Accuracy: {accuracy_svm * 100:.2f}%\")\n",
    "print(\"Confusion Matrix:\\n\", conf_matrix_svm)\n",
    "print(\"Classification Report:\\n\", class_report_svm)"
   ]
  },
  {
   "cell_type": "markdown",
   "id": "3256047d-dca4-4ed7-ab46-dacd40bb3c49",
   "metadata": {},
   "source": [
    "## Random forest Model"
   ]
  },
  {
   "cell_type": "code",
   "execution_count": 40,
   "id": "8134c0b8-cab7-4089-8e6c-ed68b680878c",
   "metadata": {},
   "outputs": [],
   "source": [
    "from sklearn.ensemble import RandomForestClassifier\n",
    "\n",
    "# Build the Random Forest model\n",
    "random_forest_model = RandomForestClassifier(random_state=42)\n",
    "\n",
    "# Train the model using the training data\n",
    "random_forest_model.fit(X_train_scaled, y_train)\n",
    "\n",
    "# Make predictions on the test data\n",
    "y_pred_rf = random_forest_model.predict(X_test_scaled)\n",
    "\n"
   ]
  },
  {
   "cell_type": "code",
   "execution_count": 41,
   "id": "5659eac9-8cff-4450-855b-c2200d39e874",
   "metadata": {},
   "outputs": [
    {
     "name": "stdout",
     "output_type": "stream",
     "text": [
      "Random Forest Accuracy: 76.62%\n",
      "Confusion Matrix:\n",
      " [[80 19]\n",
      " [17 38]]\n",
      "Classification Report:\n",
      "               precision    recall  f1-score   support\n",
      "\n",
      "           0       0.82      0.81      0.82        99\n",
      "           1       0.67      0.69      0.68        55\n",
      "\n",
      "    accuracy                           0.77       154\n",
      "   macro avg       0.75      0.75      0.75       154\n",
      "weighted avg       0.77      0.77      0.77       154\n",
      "\n"
     ]
    }
   ],
   "source": [
    "# Evaluate the model\n",
    "accuracy_rf = accuracy_score(y_test, y_pred_rf)\n",
    "conf_matrix_rf = confusion_matrix(y_test, y_pred_rf)\n",
    "class_report_rf = classification_report(y_test, y_pred_rf)\n",
    "\n",
    "# Output the results\n",
    "print(f\"Random Forest Accuracy: {accuracy_rf * 100:.2f}%\")\n",
    "print(\"Confusion Matrix:\\n\", conf_matrix_rf)\n",
    "print(\"Classification Report:\\n\", class_report_rf)"
   ]
  },
  {
   "cell_type": "markdown",
   "id": "b5a1de1a-9ee7-487e-98ad-3d0094553413",
   "metadata": {},
   "source": [
    "## Tuning the Random forest model using gridsearch"
   ]
  },
  {
   "cell_type": "code",
   "execution_count": 45,
   "id": "d21eb799-3ced-41eb-aba3-8725f24efb1e",
   "metadata": {},
   "outputs": [
    {
     "name": "stdout",
     "output_type": "stream",
     "text": [
      "Fitting 5 folds for each of 162 candidates, totalling 810 fits\n",
      "Best parameters found:  {'bootstrap': True, 'max_depth': 10, 'min_samples_leaf': 4, 'min_samples_split': 2, 'n_estimators': 300}\n"
     ]
    }
   ],
   "source": [
    "from sklearn.model_selection import GridSearchCV\n",
    "from sklearn.ensemble import RandomForestClassifier\n",
    "\n",
    "# Define the parameter grid for tuning\n",
    "param_grid = {\n",
    "    'n_estimators': [100, 200, 300],  # Number of trees\n",
    "    'max_depth': [10, 20, 30],  # Maximum depth of the tree\n",
    "    'min_samples_split': [2, 5, 10],  # Minimum number of samples to split a node\n",
    "    'min_samples_leaf': [1, 2, 4],  # Minimum number of samples at a leaf node\n",
    "    'bootstrap': [True, False]  # Whether to bootstrap samples\n",
    "}\n",
    "\n",
    "# Create a Random Forest model\n",
    "random_forest_model = RandomForestClassifier(random_state=42)\n",
    "\n",
    "# Create the GridSearchCV object\n",
    "grid_search = GridSearchCV(estimator=random_forest_model, param_grid=param_grid,\n",
    "                           cv=5, n_jobs=-1, verbose=2)\n",
    "\n",
    "# Fit the grid search model\n",
    "grid_search.fit(X_train_scaled, y_train)\n",
    "\n",
    "# Get the best parameters\n",
    "best_params = grid_search.best_params_\n",
    "\n",
    "# Output the best parameters\n",
    "print(\"Best parameters found: \", best_params)\n"
   ]
  },
  {
   "cell_type": "code",
   "execution_count": 46,
   "id": "445e9b5f-b7dd-4391-9f7f-029560bef93f",
   "metadata": {},
   "outputs": [
    {
     "name": "stdout",
     "output_type": "stream",
     "text": [
      "Tuned Random Forest Accuracy: 76.62%\n",
      "Confusion Matrix:\n",
      " [[80 19]\n",
      " [17 38]]\n",
      "Classification Report:\n",
      "               precision    recall  f1-score   support\n",
      "\n",
      "           0       0.82      0.81      0.82        99\n",
      "           1       0.67      0.69      0.68        55\n",
      "\n",
      "    accuracy                           0.77       154\n",
      "   macro avg       0.75      0.75      0.75       154\n",
      "weighted avg       0.77      0.77      0.77       154\n",
      "\n"
     ]
    }
   ],
   "source": [
    "# Use the best parameters to make predictions\n",
    "best_rf_model = grid_search.best_estimator_\n",
    "\n",
    "# Predict on the test data\n",
    "y_pred_rf_tuned = best_rf_model.predict(X_test_scaled)\n",
    "\n",
    "# Evaluate the tuned model\n",
    "accuracy_rf_tuned = accuracy_score(y_test, y_pred_rf_tuned)\n",
    "conf_matrix_rf_tuned = confusion_matrix(y_test, y_pred_rf_tuned)\n",
    "class_report_rf_tuned = classification_report(y_test, y_pred_rf_tuned)\n",
    "\n",
    "# Output the results\n",
    "print(f\"Tuned Random Forest Accuracy: {accuracy_rf_tuned * 100:.2f}%\")\n",
    "print(\"Confusion Matrix:\\n\", conf_matrix_rf_tuned)\n",
    "print(\"Classification Report:\\n\", class_report_rf_tuned)"
   ]
  },
  {
   "cell_type": "code",
   "execution_count": 47,
   "id": "6473fb19-7e31-4448-8a19-8f80ee8d064b",
   "metadata": {},
   "outputs": [
    {
     "data": {
      "image/png": "[encoded data removed]",
      "text/plain": [
       "<Figure size 800x500 with 1 Axes>"
      ]
     },
     "metadata": {},
     "output_type": "display_data"
    }
   ],
   "source": [
    "import matplotlib.pyplot as plt\n",
    "\n",
    "# Model names and their corresponding accuracies\n",
    "models = ['Logistic Regression', 'SVM', 'Random Forest', 'Tuned Random Forest']\n",
    "accuracies = [76.62, 75.32, 76.62, 75.97]\n",
    "baseline_accuracy = 64.29  # Baseline model accuracy (Perceptron)\n",
    "\n",
    "# Plotting the accuracies\n",
    "plt.figure(figsize=(8, 5))\n",
    "plt.bar(models, accuracies, color='skyblue')\n",
    "\n",
    "# Add the baseline accuracy as a red horizontal dotted line\n",
    "plt.axhline(y=baseline_accuracy, color='red', linestyle='--')\n",
    "\n",
    "# Add labels and title\n",
    "plt.xlabel('Models')\n",
    "plt.ylabel('Accuracy (%)')\n",
    "plt.title('Accuracies of Different Models with Baseline')\n",
    "\n",
    "# Add the baseline label outside the plot\n",
    "plt.text(len(models) - 1, baseline_accuracy + 0.5, f'Baseline Accuracy ({baseline_accuracy}%)', \n",
    "         color='red', ha='center')\n",
    "\n",
    "# Show the plot\n",
    "plt.tight_layout()\n",
    "plt.show()"
   ]
  },
  {
   "cell_type": "code",
   "execution_count": null,
   "id": "386e1fe2-a8d2-43c5-88d8-4e3b53f6a1d8",
   "metadata": {},
   "outputs": [],
   "source": []
  }
 ],
 "metadata": {
  "kernelspec": {
   "display_name": "Python 3 (ipykernel)",
   "language": "python",
   "name": "python3"
  },
  "language_info": {
   "codemirror_mode": {
    "name": "ipython",
    "version": 3
   },
   "file_extension": ".py",
   "mimetype": "text/x-python",
   "name": "python",
   "nbconvert_exporter": "python",
   "pygments_lexer": "ipython3",
   "version": "3.12.4"
  }
 },
 "nbformat": 4,
 "nbformat_minor": 5
}
